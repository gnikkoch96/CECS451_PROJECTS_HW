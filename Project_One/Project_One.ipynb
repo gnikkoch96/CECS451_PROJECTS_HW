{
 "cells": [
  {
   "cell_type": "markdown",
   "id": "0a531167",
   "metadata": {},
   "source": [
    "<h1> Project One </h1>\n",
    "<p>  Objective: Constructs a graph data structure <br>\n",
    "   (c) 2021 Rishika Baranawl and Nikko Chan <br>\n",
    "\n",
    "   Date: 07/12/2021 <br>\n",
    "   Name(s): Rishika Baranwal and Nikko Chan <br>\n",
    "   Student ID: 016064033 (Nikko), 026354235 (Rishika) <br> \n",
    "   E-Mail: Nikko.Chan@student.csulb.edu, rishika.baranwal@student.csulb.edu <br>\n",
    "   Version: 1.0.0 <br>\n",
    "</p>"
   ]
  },
  {
   "cell_type": "markdown",
   "id": "44c99b5b",
   "metadata": {},
   "source": [
    "<h2> GRAPH CLASS </h2>"
   ]
  },
  {
   "cell_type": "markdown",
   "id": "be7da9f8",
   "metadata": {},
   "source": [
    "<h3> __init__ </h3>\n",
    "<p> Initialized the vert_dict dictionary and the num_vertices global variables. </p>"
   ]
  },
  {
   "cell_type": "code",
   "execution_count": null,
   "id": "f93e0be7",
   "metadata": {},
   "outputs": [],
   "source": [
    "def __init__(self): \n",
    "    self.vert_dict = {}\n",
    "    self.num_vertices = 0"
   ]
  },
  {
   "cell_type": "markdown",
   "id": "77d21c34",
   "metadata": {},
   "source": [
    "<h3> add_vertex </h3>\n",
    "<p> Creates a new node object and stores it as the value of the key \"node\". Then increments the count for the number of vertices. </p>"
   ]
  },
  {
   "cell_type": "code",
   "execution_count": null,
   "id": "adeaac80",
   "metadata": {},
   "outputs": [],
   "source": [
    "def add_vertex(self, node):\n",
    "    new_v = Vertex(node)\n",
    "    self.vert_dict[node] = new_v  \n",
    "    self.num_vertices = self.num_vertices + 1"
   ]
  },
  {
   "cell_type": "markdown",
   "id": "029b29cb",
   "metadata": {},
   "source": [
    "<h3> add_edge </h3>\n",
    "<p> First checks to see if the from_edge and to_edge are in the dictionary, if not then they are added to the dictionary. Then the neighbour is added to the from_edge to the to_edge. </p>"
   ]
  },
  {
   "cell_type": "code",
   "execution_count": null,
   "id": "2e987797",
   "metadata": {},
   "outputs": [],
   "source": [
    "def add_edge(self, from_edge, to_edge, weight):\n",
    "    # if it isn't currently on the dictionary, then add it\n",
    "    if from_edge not in self.vert_dict:\n",
    "        self.add_vertex(from_edge)\n",
    "\n",
    "    if to_edge not in self.vert_dict:\n",
    "        self.add_vertex(to_edge)\n",
    "\n",
    "    # add the neighbors for both from_edge and to_edge\n",
    "    self.vert_dict[from_edge].add_neighbour(self.vert_dict[to_edge], weight)"
   ]
  },
  {
   "cell_type": "markdown",
   "id": "70deaf47",
   "metadata": {},
   "source": [
    "<h3> get_vertices </h3>\n",
    "<p> Gets all of the vertices from the vert_dict dictionary and returns them using the keys() method to get all of the nodes. </p>"
   ]
  },
  {
   "cell_type": "code",
   "execution_count": null,
   "id": "fd2f81c7",
   "metadata": {},
   "outputs": [],
   "source": [
    "def get_vertices(self):\n",
    "    return self.vert_dict.keys()  # returns all keys objects as an array"
   ]
  },
  {
   "cell_type": "markdown",
   "id": "6b7a5260",
   "metadata": {},
   "source": [
    "<h3> graph_summery </h3>\n",
    "<p> Prints out the graph. The first node checks for each node in the vert_dict list. The node is converted from the string to a vertex type and stored in the object vertex_n. The inner for loop iterates each vertex in the connections and prints each connection with its weight.  </p>"
   ]
  },
  {
   "cell_type": "code",
   "execution_count": null,
   "id": "135741b6",
   "metadata": {},
   "outputs": [],
   "source": [
    "def graph_summery(self):\n",
    "    for n in self.get_vertices():\n",
    "        # NN: n is the str key that points to the actual vertex object\n",
    "        vertex_n = self.vert_dict[n]\n",
    "        for v in vertex_n.get_connections():\n",
    "            # print(type(v))\n",
    "            print(n, '->', v, ' : ', vertex_n.get_weight(v))"
   ]
  },
  {
   "cell_type": "markdown",
   "id": "70277b12",
   "metadata": {},
   "source": [
    "<h2> <br>VERTEX CLASS </h2>"
   ]
  },
  {
   "cell_type": "markdown",
   "id": "0e40a1eb",
   "metadata": {},
   "source": [
    "<h3> __init__ </h3>\n",
    "<p> Initializes node id and adjacent dictionary. </p>"
   ]
  },
  {
   "cell_type": "code",
   "execution_count": null,
   "id": "4e7d4046",
   "metadata": {},
   "outputs": [],
   "source": [
    "def __init__(self, node):\n",
    "    self.id = node\n",
    "    self.adjacent = {}"
   ]
  },
  {
   "cell_type": "markdown",
   "id": "ed846f65",
   "metadata": {},
   "source": [
    "<h3> __str__ </h3>\n",
    "<p> Gets the node id and returns it when it is converted into a string </p>"
   ]
  },
  {
   "cell_type": "code",
   "execution_count": null,
   "id": "1f7d370a",
   "metadata": {},
   "outputs": [],
   "source": [
    "# returns the node id when converted to string\n",
    "def __str__(self):\n",
    "    return self.get_id()"
   ]
  },
  {
   "cell_type": "markdown",
   "id": "17c546d5",
   "metadata": {},
   "source": [
    "<h3> get_connections </h3>\n",
    "<p> Gets the nodes and returns all the other nodes that are adjacent to it by using the keys() method. </p>"
   ]
  },
  {
   "cell_type": "code",
   "execution_count": null,
   "id": "19248536",
   "metadata": {},
   "outputs": [],
   "source": [
    "# returns the adjacent nodes\n",
    "def get_connections(self):\n",
    "    return self.adjacent.keys()"
   ]
  },
  {
   "cell_type": "markdown",
   "id": "08067a9f",
   "metadata": {},
   "source": [
    "<h3> add_neighbour </h3>\n",
    "<p> Adds a neighbor node passed in as the parameter objNeighbour in the adjacent list. It adds the weight of that connection by inserting an integer in the weight parameter. </p>"
   ]
  },
  {
   "cell_type": "code",
   "execution_count": null,
   "id": "6e30422a",
   "metadata": {},
   "outputs": [],
   "source": [
    "def add_neighbour(self, objNeighbour, weight):\n",
    "    # NN: appends the objNeighbour to the adjacent list if it doesn't already exist in the dictionary\n",
    "    self.adjacent[objNeighbour] = weight"
   ]
  },
  {
   "cell_type": "markdown",
   "id": "6744352b",
   "metadata": {},
   "source": [
    "<h3> get_id </h3>\n",
    "<p> Gets the node id and returns it. </p>"
   ]
  },
  {
   "cell_type": "code",
   "execution_count": null,
   "id": "02eb5d38",
   "metadata": {},
   "outputs": [],
   "source": [
    "def get_id(self):\n",
    "    return self.id"
   ]
  },
  {
   "cell_type": "markdown",
   "id": "dd8231ad",
   "metadata": {},
   "source": [
    "<h3> get_weight </h3>\n",
    "<p> Gets the weight between two nodes by passing in the neighbour node as a parameter. </p>"
   ]
  },
  {
   "cell_type": "code",
   "execution_count": null,
   "id": "9443999e",
   "metadata": {},
   "outputs": [],
   "source": [
    "def get_weight(self, neighbour):\n",
    "    return self.adjacent[neighbour]"
   ]
  },
  {
   "cell_type": "markdown",
   "id": "70a172f2",
   "metadata": {},
   "source": [
    "<h3><br>MAIN CLASS </h3>"
   ]
  },
  {
   "cell_type": "markdown",
   "id": "d3d27309",
   "metadata": {},
   "source": [
    "<p> The first line is created to initialize the main. g is a Graph object. There are 5 vertices added to the graph object. There are 10 edges made in this graph, each with different numbers for the weight. Finally, the graph is printed by executing the code on the last line.</p>"
   ]
  },
  {
   "cell_type": "code",
   "execution_count": null,
   "id": "9ad7fc40",
   "metadata": {},
   "outputs": [],
   "source": [
    "if __name__ == '__main__':\n",
    "    g = Graph()\n",
    "\n",
    "    g.add_vertex('a')\n",
    "    g.add_vertex('b')\n",
    "    g.add_vertex('c')\n",
    "    g.add_vertex('d')\n",
    "    g.add_vertex('s')\n",
    "\n",
    "    g.add_edge('a', 'b', 1)\n",
    "    g.add_edge('a', 'c', 2)\n",
    "    g.add_edge('b', 'd', 4)\n",
    "    g.add_edge('c', 'a', 3)\n",
    "    g.add_edge('c', 'b', 9)\n",
    "    g.add_edge('c', 'd', 2)\n",
    "    g.add_edge('d', 's', 7)\n",
    "    g.add_edge('d', 'b', 6)\n",
    "    g.add_edge('s', 'a', 10)\n",
    "    g.add_edge('s', 'c', 5)\n",
    "    g.graph_summery()"
   ]
  },
  {
   "cell_type": "markdown",
   "id": "94db8ca8",
   "metadata": {},
   "source": [
    "<h2><br> THE WHOLE PROJECT </h2>\n",
    "<h3> (Run this to get the output!) </h3>"
   ]
  },
  {
   "cell_type": "code",
   "execution_count": 2,
   "id": "318c0214",
   "metadata": {},
   "outputs": [
    {
     "name": "stdout",
     "output_type": "stream",
     "text": [
      "a -> b  :  1\n",
      "a -> c  :  2\n",
      "b -> d  :  4\n",
      "c -> a  :  3\n",
      "c -> b  :  9\n",
      "c -> d  :  2\n",
      "d -> s  :  7\n",
      "d -> b  :  6\n",
      "s -> a  :  10\n",
      "s -> c  :  5\n"
     ]
    }
   ],
   "source": [
    "# -----------------------------------------------------------------------\n",
    "#   Constructs a graph data structure\n",
    "#   (c) 2021 Rishika Baranawl and Nikko Chan\n",
    "#\n",
    "#   Date: 07/12/2021\n",
    "#   Name(s): Rishika Baranwal and Nikko Chan\n",
    "#   Student ID: 016064033 (Nikko), 026354235 (Rishika)\n",
    "#   E-Mail: Nikko.Chan@student.csulb.edu, rishika.baranwal@student.csulb.edu\n",
    "#   Version:\n",
    "# -----------------------------------------------------------------------\n",
    "\n",
    "# Graph Class\n",
    "class Graph(object):  # Nikko Notes (NN): object is inherited (remove all NN when submitting)\n",
    "    # NN: self is used to refer to instance properties\n",
    "    def __init__(self):  # NN: _init_ is kind of like a constructor\n",
    "        self.vert_dict = {}\n",
    "        self.num_vertices = 0\n",
    "\n",
    "    def add_vertex(self, node):\n",
    "        new_v = Vertex(node)\n",
    "        self.vert_dict[node] = new_v  # NN: key = node , value = new_v\n",
    "        self.num_vertices = self.num_vertices + 1\n",
    "\n",
    "    def add_edge(self, from_edge, to_edge, weight):\n",
    "        # if it isn't currenlty on the dictionary, then add it\n",
    "        if from_edge not in self.vert_dict:\n",
    "            self.add_vertex(from_edge)\n",
    "\n",
    "        if to_edge not in self.vert_dict:\n",
    "            self.add_vertex(to_edge)\n",
    "\n",
    "        # add the neighbors for both from_edge and to_edge\n",
    "        self.vert_dict[from_edge].add_neighbour(self.vert_dict[to_edge], weight)\n",
    "        # self.vert_dict[to_edge].add_neighbour(self.vert_dict[from_edge], weight)\n",
    "\n",
    "    def get_vertices(self):\n",
    "        return self.vert_dict.keys()  # returns all keys objects as an array\n",
    "\n",
    "    def graph_summery(self):\n",
    "        for n in self.get_vertices():\n",
    "            # NN: n is the str key that points to the actual vertex object\n",
    "            vertex_n = self.vert_dict[n]\n",
    "            for v in vertex_n.get_connections():\n",
    "                # print(type(v))\n",
    "                print(n, '->', v, ' : ', vertex_n.get_weight(v))\n",
    "\n",
    "\n",
    "class Vertex:\n",
    "    def __init__(self, node):\n",
    "        self.id = node\n",
    "        self.adjacent = {}\n",
    "\n",
    "    # returns the node id when converted to string\n",
    "    def __str__(self):\n",
    "        return self.get_id()\n",
    "\n",
    "    # returns the adjacent nodes\n",
    "    def get_connections(self):\n",
    "        return self.adjacent.keys()\n",
    "\n",
    "    def add_neighbour(self, objNeighbour, weight):\n",
    "        # NN: appends the objNeighbour to the adjacent list if it doesn't already exist in the dictionary\n",
    "        self.adjacent[objNeighbour] = weight\n",
    "\n",
    "    def get_id(self):\n",
    "        return self.id\n",
    "\n",
    "    def get_weight(self, neighbour):\n",
    "        return self.adjacent[neighbour]\n",
    "\n",
    "\n",
    "# Main\n",
    "if __name__ == '__main__':\n",
    "    g = Graph()\n",
    "\n",
    "    g.add_vertex('a')\n",
    "    g.add_vertex('b')\n",
    "    g.add_vertex('c')\n",
    "    g.add_vertex('d')\n",
    "    g.add_vertex('s')\n",
    "\n",
    "    g.add_edge('a', 'b', 1)\n",
    "    g.add_edge('a', 'c', 2)\n",
    "    g.add_edge('b', 'd', 4)\n",
    "    g.add_edge('c', 'a', 3)\n",
    "    g.add_edge('c', 'b', 9)\n",
    "    g.add_edge('c', 'd', 2)\n",
    "    g.add_edge('d', 's', 7)\n",
    "    g.add_edge('d', 'b', 6)\n",
    "    g.add_edge('s', 'a', 10)\n",
    "    g.add_edge('s', 'c', 5)\n",
    "    g.graph_summery()"
   ]
  }
 ],
 "metadata": {
  "kernelspec": {
   "display_name": "Python 3",
   "language": "python",
   "name": "python3"
  },
  "language_info": {
   "codemirror_mode": {
    "name": "ipython",
    "version": 3
   },
   "file_extension": ".py",
   "mimetype": "text/x-python",
   "name": "python",
   "nbconvert_exporter": "python",
   "pygments_lexer": "ipython3",
   "version": "3.8.8"
  }
 },
 "nbformat": 4,
 "nbformat_minor": 5
}

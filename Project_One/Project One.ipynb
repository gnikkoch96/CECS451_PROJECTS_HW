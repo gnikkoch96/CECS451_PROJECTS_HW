{
 "cells": [
  {
   "cell_type": "markdown",
   "id": "911eba83",
   "metadata": {},
   "source": [
    "<h1> Project One </h1>\n",
    "<p>  Objective: Constructs a graph data structure <br>\n",
    "   (c) 2021 Rishika Baranawl and Nikko Chan <br>\n",
    "\n",
    "   Date: 07/12/2021 <br>\n",
    "   Name(s): Rishika Baranwal and Nikko Chan <br>\n",
    "   Student ID: 016064033 (Nikko), 026354235 (Rishika) <br> \n",
    "   E-Mail: Nikko.Chan@student.csulb.edu, rishika.baranwal@student.csulb.edu <br>\n",
    "   Version: 1.0.0 <br>\n",
    "</p>\n"
   ]
  },
  {
   "cell_type": "markdown",
   "id": "b6b97694",
   "metadata": {},
   "source": [
    "<h2> Graph Class </h2>"
   ]
  },
  {
   "cell_type": "markdown",
   "id": "1679719f",
   "metadata": {},
   "source": [
    "<h3> __init__ </h3>\n",
    "<p> Initialized the vert_dict dictionary and the num_vertices global variables. </p>"
   ]
  },
  {
   "cell_type": "code",
   "execution_count": 2,
   "id": "cf57f3e8",
   "metadata": {},
   "outputs": [],
   "source": [
    "def __init__(self): \n",
    "    self.vert_dict = {}\n",
    "    self.num_vertices = 0"
   ]
  },
  {
   "cell_type": "markdown",
   "id": "a69917be",
   "metadata": {},
   "source": [
    "<h3> add_vertex </h3>\n",
    "<p> Creates a new node object and stores it as the value of the key \"node\". Then increments the count for the number of vertices. </p>"
   ]
  },
  {
   "cell_type": "code",
   "execution_count": null,
   "id": "023ab9d7",
   "metadata": {},
   "outputs": [],
   "source": [
    "def add_vertex(self, node):\n",
    "    new_v = Vertex(node)\n",
    "    self.vert_dict[node] = new_v  \n",
    "    self.num_vertices = self.num_vertices + 1"
   ]
  },
  {
   "cell_type": "markdown",
   "id": "34edd906",
   "metadata": {},
   "source": [
    "<h3> add_edge </h3>\n",
    "<p> First checks to see if the from_edge and to_edge are in the dictionary, if not then they are added to the dictionary. Then the neighbour is added to the from_edge to the to_edge. </p>"
   ]
  },
  {
   "cell_type": "code",
   "execution_count": 3,
   "id": "5f549447",
   "metadata": {},
   "outputs": [],
   "source": [
    "def add_edge(self, from_edge, to_edge, weight):\n",
    "    # if it isn't currently on the dictionary, then add it\n",
    "    if from_edge not in self.vert_dict:\n",
    "        self.add_vertex(from_edge)\n",
    "\n",
    "    if to_edge not in self.vert_dict:\n",
    "        self.add_vertex(to_edge)\n",
    "\n",
    "    # add the neighbors for both from_edge and to_edge\n",
    "    self.vert_dict[from_edge].add_neighbour(self.vert_dict[to_edge], weight)"
   ]
  },
  {
   "cell_type": "markdown",
   "id": "245c62ab",
   "metadata": {},
   "source": [
    "<h3> get_vertices </h3>\n",
    "<p> Returns all of the keys from the dictionary </p>"
   ]
  },
  {
   "cell_type": "code",
   "execution_count": null,
   "id": "b5d06b88",
   "metadata": {},
   "outputs": [],
   "source": [
    "def get_vertices(self):\n",
    "    return self.vert_dict.keys()  # returns all keys objects as an array"
   ]
  },
  {
   "cell_type": "markdown",
   "id": "76718cc2",
   "metadata": {},
   "source": [
    "<h3> graph_summery </h3>\n",
    "<p> Outputs the graph by printing out the current node, neighbor node, and the weight for that edge </p>"
   ]
  },
  {
   "cell_type": "code",
   "execution_count": null,
   "id": "eb5ad923",
   "metadata": {},
   "outputs": [],
   "source": [
    "def graph_summery(self):\n",
    "    for n in self.get_vertices():\n",
    "        vertex_n = self.vert_dict[n] # Gets the vertex object from the dictionary using n as the key\n",
    "        for v in vertex_n.get_connections():\n",
    "            print(n, '->', v, ' : ', vertex_n.get_weight(v))"
   ]
  },
  {
   "cell_type": "markdown",
   "id": "711135ab",
   "metadata": {},
   "source": [
    "<h2> All Together </h2>"
   ]
  },
  {
   "cell_type": "code",
   "execution_count": 3,
   "id": "48907eda",
   "metadata": {},
   "outputs": [
    {
     "name": "stdout",
     "output_type": "stream",
     "text": [
      "Graph Output: \n",
      "a -> b  :  1\n",
      "a -> c  :  2\n",
      "b -> d  :  4\n",
      "c -> a  :  3\n",
      "c -> b  :  9\n",
      "c -> d  :  2\n",
      "d -> s  :  7\n",
      "d -> b  :  6\n",
      "s -> a  :  10\n",
      "s -> c  :  5\n"
     ]
    }
   ],
   "source": [
    "class Graph(object):  \n",
    "    def __init__(self):  \n",
    "        self.vert_dict = {}\n",
    "        self.num_vertices = 0\n",
    "\n",
    "    def add_vertex(self, node):\n",
    "        new_v = Vertex(node)\n",
    "        self.vert_dict[node] = new_v  # key = node , value = new_v\n",
    "        self.num_vertices = self.num_vertices + 1\n",
    "\n",
    "    def add_edge(self, from_edge, to_edge, weight):\n",
    "        # if it isn't currenlty on the dictionary, then add it\n",
    "        if from_edge not in self.vert_dict:\n",
    "            self.add_vertex(from_edge)\n",
    "\n",
    "        if to_edge not in self.vert_dict:\n",
    "            self.add_vertex(to_edge)\n",
    "\n",
    "        # add the neighbors for both from_edge and to_edge\n",
    "        self.vert_dict[from_edge].add_neighbour(self.vert_dict[to_edge], weight)\n",
    "\n",
    "    def get_vertices(self):\n",
    "        return self.vert_dict.keys()  # returns all keys objects as an array\n",
    "\n",
    "    def graph_summery(self):\n",
    "        print(\"Graph Output: \")\n",
    "        for n in self.get_vertices():\n",
    "            vertex_n = self.vert_dict[n]\n",
    "            for v in vertex_n.get_connections():\n",
    "                print(n, '->', v, ' : ', vertex_n.get_weight(v))\n",
    "\n",
    "\n",
    "class Vertex:\n",
    "    def __init__(self, node):\n",
    "        self.id = node\n",
    "        self.adjacent = {}\n",
    "\n",
    "    # returns the node id when converted to string\n",
    "    def __str__(self):\n",
    "        return self.get_id()\n",
    "\n",
    "    # returns the adjacent nodes\n",
    "    def get_connections(self):\n",
    "        return self.adjacent.keys()\n",
    "\n",
    "    def add_neighbour(self, objNeighbour, weight):\n",
    "        self.adjacent[objNeighbour] = weight\n",
    "\n",
    "    def get_id(self):\n",
    "        return self.id\n",
    "\n",
    "    def get_weight(self, neighbour):\n",
    "        return self.adjacent[neighbour]\n",
    "\n",
    "\n",
    "# Main\n",
    "if __name__ == '__main__':\n",
    "    g = Graph()\n",
    "\n",
    "    g.add_vertex('a')\n",
    "    g.add_vertex('b')\n",
    "    g.add_vertex('c')\n",
    "    g.add_vertex('d')\n",
    "    g.add_vertex('s')\n",
    "\n",
    "    g.add_edge('a', 'b', 1)\n",
    "    g.add_edge('a', 'c', 2)\n",
    "    g.add_edge('b', 'd', 4)\n",
    "    g.add_edge('c', 'a', 3)\n",
    "    g.add_edge('c', 'b', 9)\n",
    "    g.add_edge('c', 'd', 2)\n",
    "    g.add_edge('d', 's', 7)\n",
    "    g.add_edge('d', 'b', 6)\n",
    "    g.add_edge('s', 'a', 10)\n",
    "    g.add_edge('s', 'c', 5)\n",
    "    g.graph_summery()\n"
   ]
  }
 ],
 "metadata": {
  "kernelspec": {
   "display_name": "Python 3",
   "language": "python",
   "name": "python3"
  },
  "language_info": {
   "codemirror_mode": {
    "name": "ipython",
    "version": 3
   },
   "file_extension": ".py",
   "mimetype": "text/x-python",
   "name": "python",
   "nbconvert_exporter": "python",
   "pygments_lexer": "ipython3",
   "version": "3.8.8"
  }
 },
 "nbformat": 4,
 "nbformat_minor": 5
}
